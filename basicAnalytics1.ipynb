{
 "cells": [
  {
   "cell_type": "markdown",
   "metadata": {},
   "source": [
    "# Exploratory Data Analysis (Python, Pandas & matplotlib)"
   ]
  },
  {
   "cell_type": "markdown",
   "metadata": {},
   "source": [
    "Working with Pandas and matplotlib, for data filtering and grouping, and visualization respectively."
   ]
  },
  {
   "cell_type": "markdown",
   "metadata": {},
   "source": [
    "#### Data"
   ]
  },
  {
   "cell_type": "markdown",
   "metadata": {},
   "source": [
    "We'll use the sampled data from the log file 'wc_day6_1_sample.csv'"
   ]
  },
  {
   "cell_type": "code",
   "execution_count": 4,
   "metadata": {
    "collapsed": false
   },
   "outputs": [],
   "source": [
    "import pylab\n",
    "import pandas as pd"
   ]
  },
  {
   "cell_type": "markdown",
   "metadata": {},
   "source": [
    "Create DataFrame"
   ]
  },
  {
   "cell_type": "code",
   "execution_count": 5,
   "metadata": {
    "collapsed": false
   },
   "outputs": [],
   "source": [
    "df = pd.DataFrame( { 'a' : [1, 2, 3, 4], 'b': [ 'w', 'x', 'y', 'z'] })"
   ]
  },
  {
   "cell_type": "code",
   "execution_count": 6,
   "metadata": {
    "collapsed": false
   },
   "outputs": [
    {
     "data": {
      "text/html": [
       "<div>\n",
       "<table border=\"1\" class=\"dataframe\">\n",
       "  <thead>\n",
       "    <tr style=\"text-align: right;\">\n",
       "      <th></th>\n",
       "      <th>a</th>\n",
       "      <th>b</th>\n",
       "    </tr>\n",
       "  </thead>\n",
       "  <tbody>\n",
       "    <tr>\n",
       "      <th>0</th>\n",
       "      <td>1</td>\n",
       "      <td>w</td>\n",
       "    </tr>\n",
       "    <tr>\n",
       "      <th>1</th>\n",
       "      <td>2</td>\n",
       "      <td>x</td>\n",
       "    </tr>\n",
       "    <tr>\n",
       "      <th>2</th>\n",
       "      <td>3</td>\n",
       "      <td>y</td>\n",
       "    </tr>\n",
       "    <tr>\n",
       "      <th>3</th>\n",
       "      <td>4</td>\n",
       "      <td>z</td>\n",
       "    </tr>\n",
       "  </tbody>\n",
       "</table>\n",
       "</div>"
      ],
      "text/plain": [
       "   a  b\n",
       "0  1  w\n",
       "1  2  x\n",
       "2  3  y\n",
       "3  4  z"
      ]
     },
     "execution_count": 6,
     "metadata": {},
     "output_type": "execute_result"
    }
   ],
   "source": [
    "df"
   ]
  },
  {
   "cell_type": "code",
   "execution_count": 7,
   "metadata": {
    "collapsed": false
   },
   "outputs": [
    {
     "name": "stdout",
     "output_type": "stream",
     "text": [
      "<class 'pandas.core.frame.DataFrame'>\n",
      "RangeIndex: 4 entries, 0 to 3\n",
      "Data columns (total 2 columns):\n",
      "a    4 non-null int64\n",
      "b    4 non-null object\n",
      "dtypes: int64(1), object(1)\n",
      "memory usage: 136.0+ bytes\n"
     ]
    }
   ],
   "source": [
    "df.info()"
   ]
  },
  {
   "cell_type": "markdown",
   "metadata": {},
   "source": [
    "To check the first few rows we can use head and the last few rows tail functions"
   ]
  },
  {
   "cell_type": "code",
   "execution_count": 8,
   "metadata": {
    "collapsed": false
   },
   "outputs": [
    {
     "data": {
      "text/html": [
       "<div>\n",
       "<table border=\"1\" class=\"dataframe\">\n",
       "  <thead>\n",
       "    <tr style=\"text-align: right;\">\n",
       "      <th></th>\n",
       "      <th>a</th>\n",
       "      <th>b</th>\n",
       "    </tr>\n",
       "  </thead>\n",
       "  <tbody>\n",
       "    <tr>\n",
       "      <th>0</th>\n",
       "      <td>1</td>\n",
       "      <td>w</td>\n",
       "    </tr>\n",
       "    <tr>\n",
       "      <th>1</th>\n",
       "      <td>2</td>\n",
       "      <td>x</td>\n",
       "    </tr>\n",
       "  </tbody>\n",
       "</table>\n",
       "</div>"
      ],
      "text/plain": [
       "   a  b\n",
       "0  1  w\n",
       "1  2  x"
      ]
     },
     "execution_count": 8,
     "metadata": {},
     "output_type": "execute_result"
    }
   ],
   "source": [
    "df.head(2)"
   ]
  },
  {
   "cell_type": "markdown",
   "metadata": {},
   "source": [
    "df.tail(2)"
   ]
  },
  {
   "cell_type": "markdown",
   "metadata": {},
   "source": [
    "To access any range of rows in the DataFrame we can use array-like indexes, for example, the following will retrieve rows 1 and 2 from our DataFrame:"
   ]
  },
  {
   "cell_type": "code",
   "execution_count": 9,
   "metadata": {
    "collapsed": false
   },
   "outputs": [
    {
     "data": {
      "text/html": [
       "<div>\n",
       "<table border=\"1\" class=\"dataframe\">\n",
       "  <thead>\n",
       "    <tr style=\"text-align: right;\">\n",
       "      <th></th>\n",
       "      <th>a</th>\n",
       "      <th>b</th>\n",
       "    </tr>\n",
       "  </thead>\n",
       "  <tbody>\n",
       "    <tr>\n",
       "      <th>1</th>\n",
       "      <td>2</td>\n",
       "      <td>x</td>\n",
       "    </tr>\n",
       "    <tr>\n",
       "      <th>2</th>\n",
       "      <td>3</td>\n",
       "      <td>y</td>\n",
       "    </tr>\n",
       "  </tbody>\n",
       "</table>\n",
       "</div>"
      ],
      "text/plain": [
       "   a  b\n",
       "1  2  x\n",
       "2  3  y"
      ]
     },
     "execution_count": 9,
     "metadata": {},
     "output_type": "execute_result"
    }
   ],
   "source": [
    "df[1:3]"
   ]
  },
  {
   "cell_type": "markdown",
   "metadata": {},
   "source": [
    "Import wc_day6_1_sample.csv it into a DataFrame"
   ]
  },
  {
   "cell_type": "code",
   "execution_count": 10,
   "metadata": {
    "collapsed": false
   },
   "outputs": [],
   "source": [
    "log_df = pd.read_csv(\"wc_day6_1_sample.csv\",\n",
    "                     names=['ClientID', 'Date', 'Time', 'URL', 'ResponseCode', 'Size'],\n",
    "                     na_values=['-'])"
   ]
  },
  {
   "cell_type": "markdown",
   "metadata": {},
   "source": [
    "## More complex operations"
   ]
  },
  {
   "cell_type": "markdown",
   "metadata": {},
   "source": [
    "#### Row filtering"
   ]
  },
  {
   "cell_type": "markdown",
   "metadata": {},
   "source": [
    "To create row filters, we use lists of Boolean values that evaluate a condition:"
   ]
  },
  {
   "cell_type": "code",
   "execution_count": 8,
   "metadata": {
    "collapsed": false
   },
   "outputs": [],
   "source": [
    "is_may1st = log_df['Date'] == '01/May/1998'"
   ]
  },
  {
   "cell_type": "markdown",
   "metadata": {},
   "source": [
    "This returns a list of True/False values for each row in **log_df** that evaluate the given condition. To filter using this list:"
   ]
  },
  {
   "cell_type": "code",
   "execution_count": 9,
   "metadata": {
    "collapsed": false
   },
   "outputs": [],
   "source": [
    "may1_df = log_df[is_may1st]"
   ]
  },
  {
   "cell_type": "markdown",
   "metadata": {},
   "source": [
    "#### Column filtering"
   ]
  },
  {
   "cell_type": "markdown",
   "metadata": {},
   "source": [
    "For column filters, we use the name of the columns that we want to keep passes as a string array:"
   ]
  },
  {
   "cell_type": "code",
   "execution_count": 11,
   "metadata": {
    "collapsed": false
   },
   "outputs": [],
   "source": [
    "url_codes = log_df[['URL', 'ResponseCode']]"
   ]
  },
  {
   "cell_type": "markdown",
   "metadata": {},
   "source": [
    "#### Grouping"
   ]
  },
  {
   "cell_type": "markdown",
   "metadata": {},
   "source": [
    "For grouping by a column, i.e. dividing all the rows into groups of the same value in that column, we use **groupby** which does not return a DataFrame but a **DataFrameGroupBy** object. The **DataFrameGroupBy** object is a dictionary-like object where keys are the distinct values in the grouping column, and values are DataFrames containnig th remaining columns"
   ]
  },
  {
   "cell_type": "code",
   "execution_count": 29,
   "metadata": {
    "collapsed": false
   },
   "outputs": [],
   "source": [
    "grouped = log_df.groupby('ResponseCode')"
   ]
  },
  {
   "cell_type": "code",
   "execution_count": 30,
   "metadata": {
    "collapsed": false,
    "scrolled": true
   },
   "outputs": [
    {
     "data": {
      "text/html": [
       "<div>\n",
       "<table border=\"1\" class=\"dataframe\">\n",
       "  <thead>\n",
       "    <tr style=\"text-align: right;\">\n",
       "      <th></th>\n",
       "      <th>ClientID</th>\n",
       "      <th>Date</th>\n",
       "      <th>Time</th>\n",
       "      <th>URL</th>\n",
       "      <th>ResponseCode</th>\n",
       "      <th>Size</th>\n",
       "    </tr>\n",
       "  </thead>\n",
       "  <tbody>\n",
       "    <tr>\n",
       "      <th>0</th>\n",
       "      <td>1044</td>\n",
       "      <td>30/Apr/1998</td>\n",
       "      <td>22:46:12</td>\n",
       "      <td>/images/11104.gif</td>\n",
       "      <td>200.0</td>\n",
       "      <td>508.0</td>\n",
       "    </tr>\n",
       "    <tr>\n",
       "      <th>1</th>\n",
       "      <td>10871</td>\n",
       "      <td>01/May/1998</td>\n",
       "      <td>12:10:53</td>\n",
       "      <td>/images/ligne.gif</td>\n",
       "      <td>200.0</td>\n",
       "      <td>169.0</td>\n",
       "    </tr>\n",
       "    <tr>\n",
       "      <th>2</th>\n",
       "      <td>11012</td>\n",
       "      <td>01/May/1998</td>\n",
       "      <td>12:17:30</td>\n",
       "      <td>/english/individuals/player111503.htm</td>\n",
       "      <td>200.0</td>\n",
       "      <td>7027.0</td>\n",
       "    </tr>\n",
       "    <tr>\n",
       "      <th>5</th>\n",
       "      <td>13649</td>\n",
       "      <td>01/May/1998</td>\n",
       "      <td>14:55:01</td>\n",
       "      <td>/images/hm_anime_e.gif</td>\n",
       "      <td>200.0</td>\n",
       "      <td>15609.0</td>\n",
       "    </tr>\n",
       "    <tr>\n",
       "      <th>6</th>\n",
       "      <td>15006</td>\n",
       "      <td>01/May/1998</td>\n",
       "      <td>16:14:32</td>\n",
       "      <td>/english/images/comp_bu_group_off.gif</td>\n",
       "      <td>200.0</td>\n",
       "      <td>1557.0</td>\n",
       "    </tr>\n",
       "    <tr>\n",
       "      <th>7</th>\n",
       "      <td>16366</td>\n",
       "      <td>01/May/1998</td>\n",
       "      <td>17:14:13</td>\n",
       "      <td>/images/arw_lk.gif</td>\n",
       "      <td>200.0</td>\n",
       "      <td>669.0</td>\n",
       "    </tr>\n",
       "    <tr>\n",
       "      <th>8</th>\n",
       "      <td>16877</td>\n",
       "      <td>01/May/1998</td>\n",
       "      <td>17:46:37</td>\n",
       "      <td>/images/32p49807.jpg</td>\n",
       "      <td>200.0</td>\n",
       "      <td>13856.0</td>\n",
       "    </tr>\n",
       "    <tr>\n",
       "      <th>9</th>\n",
       "      <td>17165</td>\n",
       "      <td>01/May/1998</td>\n",
       "      <td>17:58:46</td>\n",
       "      <td>/images/home_fr_button.gif</td>\n",
       "      <td>200.0</td>\n",
       "      <td>2140.0</td>\n",
       "    </tr>\n",
       "    <tr>\n",
       "      <th>10</th>\n",
       "      <td>17251</td>\n",
       "      <td>01/May/1998</td>\n",
       "      <td>18:06:07</td>\n",
       "      <td>/images/s102438.gif</td>\n",
       "      <td>200.0</td>\n",
       "      <td>297.0</td>\n",
       "    </tr>\n",
       "    <tr>\n",
       "      <th>11</th>\n",
       "      <td>1734</td>\n",
       "      <td>01/May/1998</td>\n",
       "      <td>12:57:32</td>\n",
       "      <td>/english/venues/cities/images/paris/21hundred.gif</td>\n",
       "      <td>200.0</td>\n",
       "      <td>318.0</td>\n",
       "    </tr>\n",
       "    <tr>\n",
       "      <th>12</th>\n",
       "      <td>17501</td>\n",
       "      <td>01/May/1998</td>\n",
       "      <td>18:17:26</td>\n",
       "      <td>/english/competition/flashed_stage1.htm</td>\n",
       "      <td>200.0</td>\n",
       "      <td>3541.0</td>\n",
       "    </tr>\n",
       "    <tr>\n",
       "      <th>13</th>\n",
       "      <td>18632</td>\n",
       "      <td>01/May/1998</td>\n",
       "      <td>19:27:09</td>\n",
       "      <td>/images/backnews.gif</td>\n",
       "      <td>200.0</td>\n",
       "      <td>4573.0</td>\n",
       "    </tr>\n",
       "    <tr>\n",
       "      <th>14</th>\n",
       "      <td>18902</td>\n",
       "      <td>01/May/1998</td>\n",
       "      <td>19:45:47</td>\n",
       "      <td>/images/dot.gif</td>\n",
       "      <td>200.0</td>\n",
       "      <td>43.0</td>\n",
       "    </tr>\n",
       "    <tr>\n",
       "      <th>16</th>\n",
       "      <td>3168</td>\n",
       "      <td>01/May/1998</td>\n",
       "      <td>04:45:35</td>\n",
       "      <td>/english/images/news_btn_press_off.gif</td>\n",
       "      <td>200.0</td>\n",
       "      <td>1740.0</td>\n",
       "    </tr>\n",
       "    <tr>\n",
       "      <th>17</th>\n",
       "      <td>3250</td>\n",
       "      <td>01/May/1998</td>\n",
       "      <td>01:20:20</td>\n",
       "      <td>/images/s140875.gif</td>\n",
       "      <td>200.0</td>\n",
       "      <td>184.0</td>\n",
       "    </tr>\n",
       "    <tr>\n",
       "      <th>18</th>\n",
       "      <td>4293</td>\n",
       "      <td>01/May/1998</td>\n",
       "      <td>03:22:58</td>\n",
       "      <td>/english/playing/mascot/images/footix.test.gif</td>\n",
       "      <td>200.0</td>\n",
       "      <td>20385.0</td>\n",
       "    </tr>\n",
       "    <tr>\n",
       "      <th>20</th>\n",
       "      <td>5518</td>\n",
       "      <td>01/May/1998</td>\n",
       "      <td>04:26:52</td>\n",
       "      <td>/english/nav_inet.html</td>\n",
       "      <td>200.0</td>\n",
       "      <td>2672.0</td>\n",
       "    </tr>\n",
       "    <tr>\n",
       "      <th>21</th>\n",
       "      <td>5842</td>\n",
       "      <td>01/May/1998</td>\n",
       "      <td>04:58:25</td>\n",
       "      <td>/english/playing/images/play_hm_trivia.gif</td>\n",
       "      <td>200.0</td>\n",
       "      <td>796.0</td>\n",
       "    </tr>\n",
       "    <tr>\n",
       "      <th>22</th>\n",
       "      <td>5959</td>\n",
       "      <td>01/May/1998</td>\n",
       "      <td>05:32:07</td>\n",
       "      <td>/images/space.gif</td>\n",
       "      <td>200.0</td>\n",
       "      <td>42.0</td>\n",
       "    </tr>\n",
       "    <tr>\n",
       "      <th>24</th>\n",
       "      <td>7706</td>\n",
       "      <td>01/May/1998</td>\n",
       "      <td>08:01:19</td>\n",
       "      <td>/english/ProScroll.class</td>\n",
       "      <td>200.0</td>\n",
       "      <td>6507.0</td>\n",
       "    </tr>\n",
       "    <tr>\n",
       "      <th>25</th>\n",
       "      <td>8103</td>\n",
       "      <td>01/May/1998</td>\n",
       "      <td>08:36:53</td>\n",
       "      <td>/english/images/news_btn_kits_off.gif</td>\n",
       "      <td>200.0</td>\n",
       "      <td>933.0</td>\n",
       "    </tr>\n",
       "    <tr>\n",
       "      <th>28</th>\n",
       "      <td>9788</td>\n",
       "      <td>01/May/1998</td>\n",
       "      <td>10:43:09</td>\n",
       "      <td>/images/s102378.gif</td>\n",
       "      <td>200.0</td>\n",
       "      <td>118.0</td>\n",
       "    </tr>\n",
       "    <tr>\n",
       "      <th>30</th>\n",
       "      <td>11012</td>\n",
       "      <td>01/May/1998</td>\n",
       "      <td>12:17:23</td>\n",
       "      <td>/images/arw_lk.gif</td>\n",
       "      <td>200.0</td>\n",
       "      <td>669.0</td>\n",
       "    </tr>\n",
       "    <tr>\n",
       "      <th>31</th>\n",
       "      <td>11013</td>\n",
       "      <td>01/May/1998</td>\n",
       "      <td>12:19:15</td>\n",
       "      <td>/english/images/top_stories.gif</td>\n",
       "      <td>200.0</td>\n",
       "      <td>1210.0</td>\n",
       "    </tr>\n",
       "    <tr>\n",
       "      <th>32</th>\n",
       "      <td>11213</td>\n",
       "      <td>01/May/1998</td>\n",
       "      <td>12:30:48</td>\n",
       "      <td>/images/home_intro.anim.gif</td>\n",
       "      <td>200.0</td>\n",
       "      <td>60349.0</td>\n",
       "    </tr>\n",
       "    <tr>\n",
       "      <th>33</th>\n",
       "      <td>11762</td>\n",
       "      <td>01/May/1998</td>\n",
       "      <td>13:09:44</td>\n",
       "      <td>/images/s102328.gif</td>\n",
       "      <td>200.0</td>\n",
       "      <td>236.0</td>\n",
       "    </tr>\n",
       "    <tr>\n",
       "      <th>34</th>\n",
       "      <td>12432</td>\n",
       "      <td>01/May/1998</td>\n",
       "      <td>13:49:04</td>\n",
       "      <td>/english/images/nav_field_off.gif</td>\n",
       "      <td>200.0</td>\n",
       "      <td>1005.0</td>\n",
       "    </tr>\n",
       "    <tr>\n",
       "      <th>35</th>\n",
       "      <td>12904</td>\n",
       "      <td>01/May/1998</td>\n",
       "      <td>14:18:55</td>\n",
       "      <td>/images/s102424.gif</td>\n",
       "      <td>200.0</td>\n",
       "      <td>164.0</td>\n",
       "    </tr>\n",
       "    <tr>\n",
       "      <th>36</th>\n",
       "      <td>13049</td>\n",
       "      <td>01/May/1998</td>\n",
       "      <td>14:26:24</td>\n",
       "      <td>/images/s102477.gif</td>\n",
       "      <td>200.0</td>\n",
       "      <td>214.0</td>\n",
       "    </tr>\n",
       "    <tr>\n",
       "      <th>37</th>\n",
       "      <td>13328</td>\n",
       "      <td>01/May/1998</td>\n",
       "      <td>14:38:20</td>\n",
       "      <td>/images/nav_bg_top.gif</td>\n",
       "      <td>200.0</td>\n",
       "      <td>929.0</td>\n",
       "    </tr>\n",
       "    <tr>\n",
       "      <th>...</th>\n",
       "      <td>...</td>\n",
       "      <td>...</td>\n",
       "      <td>...</td>\n",
       "      <td>...</td>\n",
       "      <td>...</td>\n",
       "      <td>...</td>\n",
       "    </tr>\n",
       "    <tr>\n",
       "      <th>199968</th>\n",
       "      <td>11618</td>\n",
       "      <td>01/May/1998</td>\n",
       "      <td>13:06:41</td>\n",
       "      <td>/images/102320.gif</td>\n",
       "      <td>200.0</td>\n",
       "      <td>1750.0</td>\n",
       "    </tr>\n",
       "    <tr>\n",
       "      <th>199969</th>\n",
       "      <td>13282</td>\n",
       "      <td>01/May/1998</td>\n",
       "      <td>14:38:28</td>\n",
       "      <td>/images/s102329.gif</td>\n",
       "      <td>200.0</td>\n",
       "      <td>159.0</td>\n",
       "    </tr>\n",
       "    <tr>\n",
       "      <th>199970</th>\n",
       "      <td>14121</td>\n",
       "      <td>01/May/1998</td>\n",
       "      <td>15:19:21</td>\n",
       "      <td>/images/space.gif</td>\n",
       "      <td>200.0</td>\n",
       "      <td>42.0</td>\n",
       "    </tr>\n",
       "    <tr>\n",
       "      <th>199971</th>\n",
       "      <td>16012</td>\n",
       "      <td>01/May/1998</td>\n",
       "      <td>17:02:46</td>\n",
       "      <td>/english/playing/images/trivia/submit.gif</td>\n",
       "      <td>200.0</td>\n",
       "      <td>1808.0</td>\n",
       "    </tr>\n",
       "    <tr>\n",
       "      <th>199972</th>\n",
       "      <td>16596</td>\n",
       "      <td>01/May/1998</td>\n",
       "      <td>17:26:05</td>\n",
       "      <td>/english/ProScroll.class</td>\n",
       "      <td>200.0</td>\n",
       "      <td>6507.0</td>\n",
       "    </tr>\n",
       "    <tr>\n",
       "      <th>199973</th>\n",
       "      <td>17660</td>\n",
       "      <td>01/May/1998</td>\n",
       "      <td>18:26:25</td>\n",
       "      <td>/english/images/comp_bu_groupsn_on.gif</td>\n",
       "      <td>200.0</td>\n",
       "      <td>963.0</td>\n",
       "    </tr>\n",
       "    <tr>\n",
       "      <th>199974</th>\n",
       "      <td>18543</td>\n",
       "      <td>01/May/1998</td>\n",
       "      <td>19:26:42</td>\n",
       "      <td>/images/news_hm_arw.gif</td>\n",
       "      <td>200.0</td>\n",
       "      <td>152.0</td>\n",
       "    </tr>\n",
       "    <tr>\n",
       "      <th>199975</th>\n",
       "      <td>19381</td>\n",
       "      <td>01/May/1998</td>\n",
       "      <td>20:16:42</td>\n",
       "      <td>/</td>\n",
       "      <td>200.0</td>\n",
       "      <td>8712.0</td>\n",
       "    </tr>\n",
       "    <tr>\n",
       "      <th>199976</th>\n",
       "      <td>4512</td>\n",
       "      <td>01/May/1998</td>\n",
       "      <td>03:05:46</td>\n",
       "      <td>/english/images/top_stories.gif</td>\n",
       "      <td>200.0</td>\n",
       "      <td>1210.0</td>\n",
       "    </tr>\n",
       "    <tr>\n",
       "      <th>199978</th>\n",
       "      <td>5029</td>\n",
       "      <td>01/May/1998</td>\n",
       "      <td>03:43:58</td>\n",
       "      <td>/french/images/nav_hosts_off.gif</td>\n",
       "      <td>200.0</td>\n",
       "      <td>1139.0</td>\n",
       "    </tr>\n",
       "    <tr>\n",
       "      <th>199979</th>\n",
       "      <td>559</td>\n",
       "      <td>30/Apr/1998</td>\n",
       "      <td>23:38:52</td>\n",
       "      <td>/images/home_intro.anim.gif</td>\n",
       "      <td>200.0</td>\n",
       "      <td>60349.0</td>\n",
       "    </tr>\n",
       "    <tr>\n",
       "      <th>199980</th>\n",
       "      <td>5613</td>\n",
       "      <td>01/May/1998</td>\n",
       "      <td>04:41:50</td>\n",
       "      <td>/english/member/images/banner.jpg</td>\n",
       "      <td>200.0</td>\n",
       "      <td>13120.0</td>\n",
       "    </tr>\n",
       "    <tr>\n",
       "      <th>199981</th>\n",
       "      <td>6414</td>\n",
       "      <td>01/May/1998</td>\n",
       "      <td>05:54:17</td>\n",
       "      <td>/english/nav_inet.html</td>\n",
       "      <td>200.0</td>\n",
       "      <td>2672.0</td>\n",
       "    </tr>\n",
       "    <tr>\n",
       "      <th>199982</th>\n",
       "      <td>6555</td>\n",
       "      <td>01/May/1998</td>\n",
       "      <td>08:00:12</td>\n",
       "      <td>/english/images/news_btn_press_off.gif</td>\n",
       "      <td>200.0</td>\n",
       "      <td>1740.0</td>\n",
       "    </tr>\n",
       "    <tr>\n",
       "      <th>199983</th>\n",
       "      <td>72</td>\n",
       "      <td>01/May/1998</td>\n",
       "      <td>13:42:05</td>\n",
       "      <td>/images/arw_lk.gif</td>\n",
       "      <td>200.0</td>\n",
       "      <td>669.0</td>\n",
       "    </tr>\n",
       "    <tr>\n",
       "      <th>199984</th>\n",
       "      <td>78</td>\n",
       "      <td>01/May/1998</td>\n",
       "      <td>11:19:46</td>\n",
       "      <td>/english/images/top_stories.gif</td>\n",
       "      <td>200.0</td>\n",
       "      <td>1210.0</td>\n",
       "    </tr>\n",
       "    <tr>\n",
       "      <th>199986</th>\n",
       "      <td>8678</td>\n",
       "      <td>01/May/1998</td>\n",
       "      <td>09:15:22</td>\n",
       "      <td>/images/hm_anime_f.gif</td>\n",
       "      <td>200.0</td>\n",
       "      <td>15529.0</td>\n",
       "    </tr>\n",
       "    <tr>\n",
       "      <th>199987</th>\n",
       "      <td>8051</td>\n",
       "      <td>01/May/1998</td>\n",
       "      <td>16:35:07</td>\n",
       "      <td>/french/images/nav_field_off.gif</td>\n",
       "      <td>200.0</td>\n",
       "      <td>982.0</td>\n",
       "    </tr>\n",
       "    <tr>\n",
       "      <th>199988</th>\n",
       "      <td>10103</td>\n",
       "      <td>01/May/1998</td>\n",
       "      <td>16:12:29</td>\n",
       "      <td>/images/s102386.gif</td>\n",
       "      <td>200.0</td>\n",
       "      <td>279.0</td>\n",
       "    </tr>\n",
       "    <tr>\n",
       "      <th>199989</th>\n",
       "      <td>10156</td>\n",
       "      <td>01/May/1998</td>\n",
       "      <td>11:14:32</td>\n",
       "      <td>/english/playing/images/play_hm_bg_opt1.jpg</td>\n",
       "      <td>200.0</td>\n",
       "      <td>44502.0</td>\n",
       "    </tr>\n",
       "    <tr>\n",
       "      <th>199990</th>\n",
       "      <td>10215</td>\n",
       "      <td>01/May/1998</td>\n",
       "      <td>16:32:01</td>\n",
       "      <td>/images/home_eng_phrase.gif</td>\n",
       "      <td>200.0</td>\n",
       "      <td>2861.0</td>\n",
       "    </tr>\n",
       "    <tr>\n",
       "      <th>199991</th>\n",
       "      <td>12459</td>\n",
       "      <td>01/May/1998</td>\n",
       "      <td>13:50:21</td>\n",
       "      <td>/english/images/nav_home_off.gif</td>\n",
       "      <td>200.0</td>\n",
       "      <td>828.0</td>\n",
       "    </tr>\n",
       "    <tr>\n",
       "      <th>199992</th>\n",
       "      <td>13015</td>\n",
       "      <td>01/May/1998</td>\n",
       "      <td>14:23:33</td>\n",
       "      <td>/images/hm_nbg.jpg</td>\n",
       "      <td>200.0</td>\n",
       "      <td>33665.0</td>\n",
       "    </tr>\n",
       "    <tr>\n",
       "      <th>199993</th>\n",
       "      <td>1334</td>\n",
       "      <td>30/Apr/1998</td>\n",
       "      <td>23:02:07</td>\n",
       "      <td>/english/playing/images/anim/hall_off.gif</td>\n",
       "      <td>200.0</td>\n",
       "      <td>211.0</td>\n",
       "    </tr>\n",
       "    <tr>\n",
       "      <th>199994</th>\n",
       "      <td>1349</td>\n",
       "      <td>30/Apr/1998</td>\n",
       "      <td>23:03:09</td>\n",
       "      <td>/images/home_fr_phrase.gif</td>\n",
       "      <td>200.0</td>\n",
       "      <td>2843.0</td>\n",
       "    </tr>\n",
       "    <tr>\n",
       "      <th>199995</th>\n",
       "      <td>14308</td>\n",
       "      <td>01/May/1998</td>\n",
       "      <td>15:31:30</td>\n",
       "      <td>/english/images/news_btn_press_off.gif</td>\n",
       "      <td>200.0</td>\n",
       "      <td>1740.0</td>\n",
       "    </tr>\n",
       "    <tr>\n",
       "      <th>199996</th>\n",
       "      <td>14401</td>\n",
       "      <td>01/May/1998</td>\n",
       "      <td>15:54:00</td>\n",
       "      <td>/images/102338.gif</td>\n",
       "      <td>200.0</td>\n",
       "      <td>1573.0</td>\n",
       "    </tr>\n",
       "    <tr>\n",
       "      <th>199997</th>\n",
       "      <td>8145</td>\n",
       "      <td>01/May/1998</td>\n",
       "      <td>08:41:37</td>\n",
       "      <td>/english/news/player01.htm</td>\n",
       "      <td>200.0</td>\n",
       "      <td>42591.0</td>\n",
       "    </tr>\n",
       "    <tr>\n",
       "      <th>199998</th>\n",
       "      <td>17799</td>\n",
       "      <td>01/May/1998</td>\n",
       "      <td>18:34:08</td>\n",
       "      <td>/english/images/nav_team_off.gif</td>\n",
       "      <td>200.0</td>\n",
       "      <td>776.0</td>\n",
       "    </tr>\n",
       "    <tr>\n",
       "      <th>199999</th>\n",
       "      <td>18194</td>\n",
       "      <td>01/May/1998</td>\n",
       "      <td>19:07:24</td>\n",
       "      <td>/french/playing/images/trivia/02comme.gif</td>\n",
       "      <td>200.0</td>\n",
       "      <td>944.0</td>\n",
       "    </tr>\n",
       "  </tbody>\n",
       "</table>\n",
       "<p>173924 rows × 6 columns</p>\n",
       "</div>"
      ],
      "text/plain": [
       "        ClientID         Date      Time  \\\n",
       "0           1044  30/Apr/1998  22:46:12   \n",
       "1          10871  01/May/1998  12:10:53   \n",
       "2          11012  01/May/1998  12:17:30   \n",
       "5          13649  01/May/1998  14:55:01   \n",
       "6          15006  01/May/1998  16:14:32   \n",
       "7          16366  01/May/1998  17:14:13   \n",
       "8          16877  01/May/1998  17:46:37   \n",
       "9          17165  01/May/1998  17:58:46   \n",
       "10         17251  01/May/1998  18:06:07   \n",
       "11          1734  01/May/1998  12:57:32   \n",
       "12         17501  01/May/1998  18:17:26   \n",
       "13         18632  01/May/1998  19:27:09   \n",
       "14         18902  01/May/1998  19:45:47   \n",
       "16          3168  01/May/1998  04:45:35   \n",
       "17          3250  01/May/1998  01:20:20   \n",
       "18          4293  01/May/1998  03:22:58   \n",
       "20          5518  01/May/1998  04:26:52   \n",
       "21          5842  01/May/1998  04:58:25   \n",
       "22          5959  01/May/1998  05:32:07   \n",
       "24          7706  01/May/1998  08:01:19   \n",
       "25          8103  01/May/1998  08:36:53   \n",
       "28          9788  01/May/1998  10:43:09   \n",
       "30         11012  01/May/1998  12:17:23   \n",
       "31         11013  01/May/1998  12:19:15   \n",
       "32         11213  01/May/1998  12:30:48   \n",
       "33         11762  01/May/1998  13:09:44   \n",
       "34         12432  01/May/1998  13:49:04   \n",
       "35         12904  01/May/1998  14:18:55   \n",
       "36         13049  01/May/1998  14:26:24   \n",
       "37         13328  01/May/1998  14:38:20   \n",
       "...          ...          ...       ...   \n",
       "199968     11618  01/May/1998  13:06:41   \n",
       "199969     13282  01/May/1998  14:38:28   \n",
       "199970     14121  01/May/1998  15:19:21   \n",
       "199971     16012  01/May/1998  17:02:46   \n",
       "199972     16596  01/May/1998  17:26:05   \n",
       "199973     17660  01/May/1998  18:26:25   \n",
       "199974     18543  01/May/1998  19:26:42   \n",
       "199975     19381  01/May/1998  20:16:42   \n",
       "199976      4512  01/May/1998  03:05:46   \n",
       "199978      5029  01/May/1998  03:43:58   \n",
       "199979       559  30/Apr/1998  23:38:52   \n",
       "199980      5613  01/May/1998  04:41:50   \n",
       "199981      6414  01/May/1998  05:54:17   \n",
       "199982      6555  01/May/1998  08:00:12   \n",
       "199983        72  01/May/1998  13:42:05   \n",
       "199984        78  01/May/1998  11:19:46   \n",
       "199986      8678  01/May/1998  09:15:22   \n",
       "199987      8051  01/May/1998  16:35:07   \n",
       "199988     10103  01/May/1998  16:12:29   \n",
       "199989     10156  01/May/1998  11:14:32   \n",
       "199990     10215  01/May/1998  16:32:01   \n",
       "199991     12459  01/May/1998  13:50:21   \n",
       "199992     13015  01/May/1998  14:23:33   \n",
       "199993      1334  30/Apr/1998  23:02:07   \n",
       "199994      1349  30/Apr/1998  23:03:09   \n",
       "199995     14308  01/May/1998  15:31:30   \n",
       "199996     14401  01/May/1998  15:54:00   \n",
       "199997      8145  01/May/1998  08:41:37   \n",
       "199998     17799  01/May/1998  18:34:08   \n",
       "199999     18194  01/May/1998  19:07:24   \n",
       "\n",
       "                                                      URL  ResponseCode  \\\n",
       "0                                       /images/11104.gif         200.0   \n",
       "1                                       /images/ligne.gif         200.0   \n",
       "2                   /english/individuals/player111503.htm         200.0   \n",
       "5                                  /images/hm_anime_e.gif         200.0   \n",
       "6                   /english/images/comp_bu_group_off.gif         200.0   \n",
       "7                                      /images/arw_lk.gif         200.0   \n",
       "8                                    /images/32p49807.jpg         200.0   \n",
       "9                              /images/home_fr_button.gif         200.0   \n",
       "10                                    /images/s102438.gif         200.0   \n",
       "11      /english/venues/cities/images/paris/21hundred.gif         200.0   \n",
       "12                /english/competition/flashed_stage1.htm         200.0   \n",
       "13                                   /images/backnews.gif         200.0   \n",
       "14                                        /images/dot.gif         200.0   \n",
       "16                 /english/images/news_btn_press_off.gif         200.0   \n",
       "17                                    /images/s140875.gif         200.0   \n",
       "18         /english/playing/mascot/images/footix.test.gif         200.0   \n",
       "20                                 /english/nav_inet.html         200.0   \n",
       "21             /english/playing/images/play_hm_trivia.gif         200.0   \n",
       "22                                      /images/space.gif         200.0   \n",
       "24                               /english/ProScroll.class         200.0   \n",
       "25                  /english/images/news_btn_kits_off.gif         200.0   \n",
       "28                                    /images/s102378.gif         200.0   \n",
       "30                                     /images/arw_lk.gif         200.0   \n",
       "31                        /english/images/top_stories.gif         200.0   \n",
       "32                            /images/home_intro.anim.gif         200.0   \n",
       "33                                    /images/s102328.gif         200.0   \n",
       "34                      /english/images/nav_field_off.gif         200.0   \n",
       "35                                    /images/s102424.gif         200.0   \n",
       "36                                    /images/s102477.gif         200.0   \n",
       "37                                 /images/nav_bg_top.gif         200.0   \n",
       "...                                                   ...           ...   \n",
       "199968                                 /images/102320.gif         200.0   \n",
       "199969                                /images/s102329.gif         200.0   \n",
       "199970                                  /images/space.gif         200.0   \n",
       "199971          /english/playing/images/trivia/submit.gif         200.0   \n",
       "199972                           /english/ProScroll.class         200.0   \n",
       "199973             /english/images/comp_bu_groupsn_on.gif         200.0   \n",
       "199974                            /images/news_hm_arw.gif         200.0   \n",
       "199975                                                  /         200.0   \n",
       "199976                    /english/images/top_stories.gif         200.0   \n",
       "199978                   /french/images/nav_hosts_off.gif         200.0   \n",
       "199979                        /images/home_intro.anim.gif         200.0   \n",
       "199980                  /english/member/images/banner.jpg         200.0   \n",
       "199981                             /english/nav_inet.html         200.0   \n",
       "199982             /english/images/news_btn_press_off.gif         200.0   \n",
       "199983                                 /images/arw_lk.gif         200.0   \n",
       "199984                    /english/images/top_stories.gif         200.0   \n",
       "199986                             /images/hm_anime_f.gif         200.0   \n",
       "199987                   /french/images/nav_field_off.gif         200.0   \n",
       "199988                                /images/s102386.gif         200.0   \n",
       "199989        /english/playing/images/play_hm_bg_opt1.jpg         200.0   \n",
       "199990                        /images/home_eng_phrase.gif         200.0   \n",
       "199991                   /english/images/nav_home_off.gif         200.0   \n",
       "199992                                 /images/hm_nbg.jpg         200.0   \n",
       "199993          /english/playing/images/anim/hall_off.gif         200.0   \n",
       "199994                         /images/home_fr_phrase.gif         200.0   \n",
       "199995             /english/images/news_btn_press_off.gif         200.0   \n",
       "199996                                 /images/102338.gif         200.0   \n",
       "199997                         /english/news/player01.htm         200.0   \n",
       "199998                   /english/images/nav_team_off.gif         200.0   \n",
       "199999          /french/playing/images/trivia/02comme.gif         200.0   \n",
       "\n",
       "           Size  \n",
       "0         508.0  \n",
       "1         169.0  \n",
       "2        7027.0  \n",
       "5       15609.0  \n",
       "6        1557.0  \n",
       "7         669.0  \n",
       "8       13856.0  \n",
       "9        2140.0  \n",
       "10        297.0  \n",
       "11        318.0  \n",
       "12       3541.0  \n",
       "13       4573.0  \n",
       "14         43.0  \n",
       "16       1740.0  \n",
       "17        184.0  \n",
       "18      20385.0  \n",
       "20       2672.0  \n",
       "21        796.0  \n",
       "22         42.0  \n",
       "24       6507.0  \n",
       "25        933.0  \n",
       "28        118.0  \n",
       "30        669.0  \n",
       "31       1210.0  \n",
       "32      60349.0  \n",
       "33        236.0  \n",
       "34       1005.0  \n",
       "35        164.0  \n",
       "36        214.0  \n",
       "37        929.0  \n",
       "...         ...  \n",
       "199968   1750.0  \n",
       "199969    159.0  \n",
       "199970     42.0  \n",
       "199971   1808.0  \n",
       "199972   6507.0  \n",
       "199973    963.0  \n",
       "199974    152.0  \n",
       "199975   8712.0  \n",
       "199976   1210.0  \n",
       "199978   1139.0  \n",
       "199979  60349.0  \n",
       "199980  13120.0  \n",
       "199981   2672.0  \n",
       "199982   1740.0  \n",
       "199983    669.0  \n",
       "199984   1210.0  \n",
       "199986  15529.0  \n",
       "199987    982.0  \n",
       "199988    279.0  \n",
       "199989  44502.0  \n",
       "199990   2861.0  \n",
       "199991    828.0  \n",
       "199992  33665.0  \n",
       "199993    211.0  \n",
       "199994   2843.0  \n",
       "199995   1740.0  \n",
       "199996   1573.0  \n",
       "199997  42591.0  \n",
       "199998    776.0  \n",
       "199999    944.0  \n",
       "\n",
       "[173924 rows x 6 columns]"
      ]
     },
     "execution_count": 30,
     "metadata": {},
     "output_type": "execute_result"
    }
   ],
   "source": [
    "grouped.get_group(200)"
   ]
  },
  {
   "cell_type": "code",
   "execution_count": 31,
   "metadata": {
    "collapsed": false
   },
   "outputs": [],
   "source": [
    "# group by multiple columns\n",
    "multi_grouped = log_df.groupby(['ResponseCode', 'Date'])"
   ]
  },
  {
   "cell_type": "markdown",
   "metadata": {},
   "source": [
    "Similarly, we can apply operations to each group such as:"
   ]
  },
  {
   "cell_type": "code",
   "execution_count": 15,
   "metadata": {
    "collapsed": false
   },
   "outputs": [
    {
     "name": "stdout",
     "output_type": "stream",
     "text": [
      "<class 'pandas.core.frame.DataFrame'>\n",
      "Int64Index: 14577 entries, 0 to 199994\n",
      "Data columns (total 6 columns):\n",
      "ClientID        14577 non-null int64\n",
      "Date            14577 non-null object\n",
      "Time            14577 non-null object\n",
      "URL             14577 non-null object\n",
      "ResponseCode    14577 non-null float64\n",
      "Size            14577 non-null float64\n",
      "dtypes: float64(2), int64(1), object(3)"
     ]
    }
   ],
   "source": [
    "multi_grouped.get_group((200, '30/Apr/1998')).info()"
   ]
  },
  {
   "cell_type": "code",
   "execution_count": 16,
   "metadata": {
    "collapsed": false
   },
   "outputs": [
    {
     "data": {
      "text/plain": [
       "ResponseCode\n",
       "200             173924\n",
       "206                379\n",
       "302                 14\n",
       "304              25457\n",
       "400                  3\n",
       "404                215\n",
       "500                  5\n",
       "dtype: int64"
      ]
     },
     "execution_count": 16,
     "metadata": {},
     "output_type": "execute_result"
    }
   ],
   "source": [
    "grouped.size()\n",
    "# returns a panda Series(1-d array with the groupby value(s)as index, count of each group as data values.)"
   ]
  },
  {
   "cell_type": "code",
   "execution_count": 17,
   "metadata": {
    "collapsed": false
   },
   "outputs": [
    {
     "data": {
      "text/plain": [
       "(                ClientID        Size\n",
       " ResponseCode                        \n",
       " 200           1747413714  1468218073\n",
       " 206              3943763    33991016\n",
       " 302               160809        3334\n",
       " 304            228519101      199437\n",
       " 400                14153         408\n",
       " 404              1777150       57840\n",
       " 500                51037        1525,                   ClientID          Size\n",
       " ResponseCode                            \n",
       " 200           10046.995895   8441.722091\n",
       " 206           10405.707124  89686.058047\n",
       " 302           11486.357143    238.142857\n",
       " 304            8976.670503     11.878320\n",
       " 400            4717.666667    136.000000\n",
       " 404            8265.813953    269.023256\n",
       " 500           10207.400000    305.000000,               ClientID   Size\n",
       " ResponseCode                 \n",
       " 200            10081.0    937\n",
       " 206            10274.0  10200\n",
       " 302             9865.5    218\n",
       " 304             8349.0      0\n",
       " 400              781.0    147\n",
       " 404             7116.0    207\n",
       " 500             7211.0    305)"
      ]
     },
     "execution_count": 17,
     "metadata": {},
     "output_type": "execute_result"
    }
   ],
   "source": [
    "grouped.sum(), grouped.mean(), grouped.median()"
   ]
  },
  {
   "cell_type": "markdown",
   "metadata": {},
   "source": [
    "## Basic Statistics"
   ]
  },
  {
   "cell_type": "markdown",
   "metadata": {},
   "source": [
    "Pandas can also provide useful insights of numerical columns in a DataFrame. The function describe will provide basic statistics such as count, mean, standard deviation, etc."
   ]
  },
  {
   "cell_type": "code",
   "execution_count": 18,
   "metadata": {
    "collapsed": false
   },
   "outputs": [
    {
     "data": {
      "text/html": [
       "<div style=\"max-height:1000px;max-width:1500px;overflow:auto;\">\n",
       "<table border=\"1\" class=\"dataframe\">\n",
       "  <thead>\n",
       "    <tr style=\"text-align: right;\">\n",
       "      <th></th>\n",
       "      <th>ClientID</th>\n",
       "      <th>ResponseCode</th>\n",
       "      <th>Size</th>\n",
       "    </tr>\n",
       "  </thead>\n",
       "  <tbody>\n",
       "    <tr>\n",
       "      <th>count</th>\n",
       "      <td> 200000.000000</td>\n",
       "      <td> 199997.000000</td>\n",
       "      <td>  191333.000000</td>\n",
       "    </tr>\n",
       "    <tr>\n",
       "      <th>mean</th>\n",
       "      <td>   9909.549500</td>\n",
       "      <td>    213.486152</td>\n",
       "      <td>    7852.652877</td>\n",
       "    </tr>\n",
       "    <tr>\n",
       "      <th>std</th>\n",
       "      <td>   6363.720798</td>\n",
       "      <td>     35.259744</td>\n",
       "      <td>   79608.524855</td>\n",
       "    </tr>\n",
       "    <tr>\n",
       "      <th>min</th>\n",
       "      <td>      0.000000</td>\n",
       "      <td>    200.000000</td>\n",
       "      <td>       0.000000</td>\n",
       "    </tr>\n",
       "    <tr>\n",
       "      <th>25%</th>\n",
       "      <td>   4326.000000</td>\n",
       "      <td>    200.000000</td>\n",
       "      <td>     231.000000</td>\n",
       "    </tr>\n",
       "    <tr>\n",
       "      <th>50%</th>\n",
       "      <td>   9812.000000</td>\n",
       "      <td>    200.000000</td>\n",
       "      <td>     914.000000</td>\n",
       "    </tr>\n",
       "    <tr>\n",
       "      <th>75%</th>\n",
       "      <td>  15056.000000</td>\n",
       "      <td>    200.000000</td>\n",
       "      <td>    2557.000000</td>\n",
       "    </tr>\n",
       "    <tr>\n",
       "      <th>max</th>\n",
       "      <td>  34794.000000</td>\n",
       "      <td>    500.000000</td>\n",
       "      <td> 2891887.000000</td>\n",
       "    </tr>\n",
       "  </tbody>\n",
       "</table>\n",
       "</div>"
      ],
      "text/plain": [
       "            ClientID   ResponseCode            Size\n",
       "count  200000.000000  199997.000000   191333.000000\n",
       "mean     9909.549500     213.486152     7852.652877\n",
       "std      6363.720798      35.259744    79608.524855\n",
       "min         0.000000     200.000000        0.000000\n",
       "25%      4326.000000     200.000000      231.000000\n",
       "50%      9812.000000     200.000000      914.000000\n",
       "75%     15056.000000     200.000000     2557.000000\n",
       "max     34794.000000     500.000000  2891887.000000"
      ]
     },
     "execution_count": 18,
     "metadata": {},
     "output_type": "execute_result"
    }
   ],
   "source": [
    "log_df.describe()"
   ]
  },
  {
   "cell_type": "markdown",
   "metadata": {},
   "source": [
    "## Visualization"
   ]
  },
  {
   "cell_type": "markdown",
   "metadata": {},
   "source": [
    "Now lets visualize our data using PyLab (this step requires to have matplotlib installed, already installed in the virtual machine)"
   ]
  },
  {
   "cell_type": "markdown",
   "metadata": {},
   "source": [
    "#### Pie Chart"
   ]
  },
  {
   "cell_type": "code",
   "execution_count": 19,
   "metadata": {
    "collapsed": false
   },
   "outputs": [
    {
     "data": {
      "text/plain": [
       "ResponseCode\n",
       "200             173924\n",
       "206                379\n",
       "302                 14\n",
       "304              25457\n",
       "400                  3\n",
       "404                215\n",
       "500                  5\n",
       "dtype: int64"
      ]
     },
     "execution_count": 19,
     "metadata": {},
     "output_type": "execute_result"
    }
   ],
   "source": [
    "# The sizes of each group by ResponseCode\n",
    "grouped.size()"
   ]
  },
  {
   "cell_type": "code",
   "execution_count": 32,
   "metadata": {
    "collapsed": false
   },
   "outputs": [
    {
     "data": {
      "text/plain": [
       "<matplotlib.axes._subplots.AxesSubplot at 0x7f7bea96e090>"
      ]
     },
     "execution_count": 32,
     "metadata": {},
     "output_type": "execute_result"
    },
    {
     "data": {
      "image/png": "[encoded data removed]",
      "text/plain": [
       "<matplotlib.figure.Figure at 0x7f7bea725910>"
      ]
     },
     "metadata": {},
     "output_type": "display_data"
    }
   ],
   "source": [
    "%matplotlib inline\n",
    "# show the percentage of each response code\n",
    "import matplotlib.pyplot as plt\n",
    "grouped.size().plot(kind='pie', legend=True)"
   ]
  },
  {
   "cell_type": "markdown",
   "metadata": {},
   "source": [
    "#### Bar Chart"
   ]
  },
  {
   "cell_type": "code",
   "execution_count": 21,
   "metadata": {
    "collapsed": false
   },
   "outputs": [
    {
     "data": {
      "text/plain": [
       "<matplotlib.axes.AxesSubplot at 0x7ff62f7ca250>"
      ]
     },
     "execution_count": 21,
     "metadata": {},
     "output_type": "execute_result"
    },
    {
     "data": {
      "image/png": "[encoded data removed]",
      "text/plain": [
       "<matplotlib.figure.Figure at 0x7ff62f758cd0>"
      ]
     },
     "metadata": {},
     "output_type": "display_data"
    }
   ],
   "source": [
    "# Or show as bar chart\n",
    "grouped.size().plot(kind='bar')"
   ]
  },
  {
   "cell_type": "code",
   "execution_count": 22,
   "metadata": {
    "collapsed": false
   },
   "outputs": [
    {
     "data": {
      "image/png": "[encoded data removed]",
      "text/plain": [
       "<matplotlib.figure.Figure at 0x7ff62f4ffcd0>"
      ]
     },
     "metadata": {},
     "output_type": "display_data"
    }
   ],
   "source": [
    "# Since the diferences between the counts are huge, use logy y-axis\n",
    "ax = grouped.size().plot(kind='bar')\n",
    "ax.set_yscale('log', nonposy='clip')# the 'noposy='clip'' is to replace the invalid log(0) with a very small positive one\n",
    "                                  # while doing the log-scale transition."
   ]
  },
  {
   "cell_type": "markdown",
   "metadata": {},
   "source": [
    "Now let's check how requests changes during different hour of the day on '01/May/1998'"
   ]
  },
  {
   "cell_type": "markdown",
   "metadata": {},
   "source": [
    "#### Line Plot"
   ]
  },
  {
   "cell_type": "code",
   "execution_count": 23,
   "metadata": {
    "collapsed": false
   },
   "outputs": [],
   "source": [
    "may1_df = log_df[log_df['Date'] == '01/May/1998']\n",
    "may1_df['DateTime'] = pd.to_datetime(may1_df.apply(lambda row: row['Date'] + ' ' + row['Time'], axis=1))\n",
    "hour_grouped = may1_df.groupby(lambda x: may1_df['DateTime'][x].hour)"
   ]
  },
  {
   "cell_type": "code",
   "execution_count": 24,
   "metadata": {
    "collapsed": false
   },
   "outputs": [
    {
     "data": {
      "text/plain": [
       "0      6569\n",
       "1      6103\n",
       "2      6072\n",
       "3      6625\n",
       "4      6019\n",
       "5      4733\n",
       "6      4995\n",
       "7      5094\n",
       "8      6460\n",
       "9      7892\n",
       "10     7465\n",
       "11     7893\n",
       "12    10127\n",
       "13    10225\n",
       "14    12040\n",
       "15    12256\n",
       "16    13367\n",
       "17    11494\n",
       "18    11515\n",
       "19    10386\n",
       "20     9363\n",
       "21     6610\n",
       "dtype: int64"
      ]
     },
     "execution_count": 24,
     "metadata": {},
     "output_type": "execute_result"
    }
   ],
   "source": [
    "# Let's check how many requests were made during each hour of the day on '01/May/1998' \n",
    "hour_grouped.size()"
   ]
  },
  {
   "cell_type": "code",
   "execution_count": 25,
   "metadata": {
    "collapsed": false
   },
   "outputs": [
    {
     "data": {
      "text/plain": [
       "0     44166352\n",
       "1     46857868\n",
       "2     42803283\n",
       "3     38868040\n",
       "4     49190470\n",
       "5     34184105\n",
       "6     47877742\n",
       "7     37838488\n",
       "8     57224306\n",
       "9     67645841\n",
       "10    64193518\n",
       "11    59961757\n",
       "12    79150391\n",
       "13    80907946\n",
       "14    98825640\n",
       "15    94044070\n",
       "16    73413868\n",
       "17    94389754\n",
       "18    79264404\n",
       "19    76209823\n",
       "20    67784666\n",
       "21    59834046\n",
       "Name: Size, dtype: float64"
      ]
     },
     "execution_count": 25,
     "metadata": {},
     "output_type": "execute_result"
    }
   ],
   "source": [
    "# and how much traffic the server handled during each hour:\n",
    "hour_grouped['Size'].sum()"
   ]
  },
  {
   "cell_type": "code",
   "execution_count": 26,
   "metadata": {
    "collapsed": false
   },
   "outputs": [
    {
     "data": {
      "text/plain": [
       "<matplotlib.text.Text at 0x7ff62efcbc10>"
      ]
     },
     "execution_count": 26,
     "metadata": {},
     "output_type": "execute_result"
    },
    {
     "data": {
      "image/png": "[encoded data removed]",
      "text/plain": [
       "<matplotlib.figure.Figure at 0x7ff65c3aba10>"
      ]
     },
     "metadata": {},
     "output_type": "display_data"
    }
   ],
   "source": [
    "# plot the changes of traffic on different hours of the day.\n",
    "ax = hour_grouped.size().plot()\n",
    "ax.set_ylabel(\"# Requests\")\n",
    "ax.set_xlabel(\"Hour of the day\")\n",
    "ax.set_title(\"# Request changes in a day\")"
   ]
  },
  {
   "cell_type": "code",
   "execution_count": 27,
   "metadata": {
    "collapsed": false
   },
   "outputs": [
    {
     "data": {
      "text/plain": [
       "<matplotlib.text.Text at 0x7ff62ef9bc90>"
      ]
     },
     "execution_count": 27,
     "metadata": {},
     "output_type": "execute_result"
    },
    {
     "data": {
      "image/png": "[encoded data removed]",
      "text/plain": [
       "<matplotlib.figure.Figure at 0x7ff62bd3bfd0>"
      ]
     },
     "metadata": {},
     "output_type": "display_data"
    }
   ],
   "source": [
    "# Let's show the # requests and size of traffic in a single graph:\n",
    "fig, ax1 = plt.subplots()\n",
    "ax2 = ax1.twinx()\n",
    "x = hour_grouped.size().index\n",
    "\n",
    "ax1.plot(x, hour_grouped.size(), 'g-')\n",
    "ax2.plot(x, hour_grouped['Size'].sum(), 'r-')\n",
    "\n",
    "ax1.set_xlabel('Hour of the day')\n",
    "ax1.set_ylabel('# Requests', color='g')\n",
    "ax2.set_ylabel('Size of traffic handled', color='r')"
   ]
  },
  {
   "cell_type": "markdown",
   "metadata": {},
   "source": [
    "### Exercise 1: Lets find how many requests that were sent on '30/Apr/1998' and had HTTP return code 404?"
   ]
  },
  {
   "cell_type": "code",
   "execution_count": 13,
   "metadata": {
    "collapsed": false
   },
   "outputs": [
    {
     "data": {
      "text/plain": [
       "17"
      ]
     },
     "execution_count": 13,
     "metadata": {},
     "output_type": "execute_result"
    }
   ],
   "source": [
    "apr30df = log_df[log_df['Date'] == '30/Apr/1998']\n",
    "groupdf = apr30df.groupby('ResponseCode')\n",
    "groupdf.size()[404]"
   ]
  },
  {
   "cell_type": "markdown",
   "metadata": {},
   "source": [
    "### Exercise 2: Generate a plot of the number of distinct users of the site every hour on 01/May/1998 using bar chart."
   ]
  },
  {
   "cell_type": "code",
   "execution_count": 20,
   "metadata": {
    "collapsed": false
   },
   "outputs": [
    {
     "name": "stderr",
     "output_type": "stream",
     "text": [
      "/usr/local/lib/python2.7/dist-packages/ipykernel/__main__.py:3: SettingWithCopyWarning: \n",
      "A value is trying to be set on a copy of a slice from a DataFrame.\n",
      "Try using .loc[row_indexer,col_indexer] = value instead\n",
      "\n",
      "See the caveats in the documentation: http://pandas.pydata.org/pandas-docs/stable/indexing.html#indexing-view-versus-copy\n",
      "  app.launch_new_instance()\n"
     ]
    }
   ],
   "source": [
    "may1_df = log_df[log_df['Date'] == '01/May/1998']\n",
    "may1_df['DateTime'] = pd.to_datetime(may1_df.apply(lambda row: row['Date'] + ' ' + row['Time'],\n",
    "axis=1))"
   ]
  },
  {
   "cell_type": "code",
   "execution_count": 26,
   "metadata": {
    "collapsed": false
   },
   "outputs": [
    {
     "data": {
      "image/png": "[encoded data removed]",
      "text/plain": [
       "<matplotlib.figure.Figure at 0x7f7beaa8ffd0>"
      ]
     },
     "execution_count": 26,
     "metadata": {},
     "output_type": "execute_result"
    }
   ],
   "source": [
    "hour_grouped = may1_df.groupby(lambda x: may1_df['DateTime'][x].hour)\n",
    "distinctUser = hour_grouped['ClientID'].nunique()\n",
    "plot = distinctUser.plot(kind='bar')\n",
    "plot.figure"
   ]
  },
  {
   "cell_type": "markdown",
   "metadata": {},
   "source": [
    "### Exercise 3: Generate a line plot of the number of distinct users vs size of traffic of the site every hour on 01/May/1998, is there any correlation?"
   ]
  },
  {
   "cell_type": "code",
   "execution_count": 33,
   "metadata": {
    "collapsed": false
   },
   "outputs": [
    {
     "data": {
      "text/plain": [
       "<matplotlib.text.Text at 0x7f7bea5e2050>"
      ]
     },
     "execution_count": 33,
     "metadata": {},
     "output_type": "execute_result"
    },
    {
     "data": {
      "image/png": "[encoded data removed]",
      "text/plain": [
       "<matplotlib.figure.Figure at 0x7f7bea9e3510>"
      ]
     },
     "metadata": {},
     "output_type": "display_data"
    }
   ],
   "source": [
    "fig, ax1 = plt.subplots()\n",
    "ax2 = ax1.twinx()\n",
    "x = hour_grouped.size().index\n",
    "ax1.plot(x, distinctUser, 'g-')\n",
    "ax2.plot(x, hour_grouped['Size'].sum(), 'r-')\n",
    "ax1.set_xlabel('Hour of the day')\n",
    "ax1.set_ylabel('# Distinct Users', color='g')\n",
    "ax2.set_ylabel('Size of traffic handled', color='r')"
   ]
  },
  {
   "cell_type": "markdown",
   "metadata": {},
   "source": [
    "We observe that the number of user and size of traffic are positively co related for the most part with some outliers."
   ]
  },
  {
   "cell_type": "markdown",
   "metadata": {},
   "source": [
    "### Exercise 4: See if there is any correlation between client-ids and hours of the day at which they visit the website, we get 100 client ids from the dataset and generate a scatter plot that shows the hours of the day these clients sent requests."
   ]
  },
  {
   "cell_type": "code",
   "execution_count": 34,
   "metadata": {
    "collapsed": false
   },
   "outputs": [
    {
     "data": {
      "text/plain": [
       "<matplotlib.axes._subplots.AxesSubplot at 0x7f7bea5617d0>"
      ]
     },
     "execution_count": 34,
     "metadata": {},
     "output_type": "execute_result"
    },
    {
     "data": {
      "image/png": "[encoded data removed]",
      "text/plain": [
       "<matplotlib.figure.Figure at 0x7f7bea90ec10>"
      ]
     },
     "metadata": {},
     "output_type": "display_data"
    }
   ],
   "source": [
    "hours_df = log_df\n",
    "hours_df['DateTime'] = pd.to_datetime(log_df.apply(lambda row: row['Date'] + ' ' + row['Time'], axis=1))\n",
    "hours_df['Hours'] = hours_df.DateTime.apply(lambda row: row.hour)\n",
    "client100 = log_df['ClientID'].unique()[:100]\n",
    "hours_df=hours_df[hours_df['ClientID'].isin(client100)]\n",
    "hours_df.plot(kind='scatter', x='ClientID', y='Hours')"
   ]
  }
 ],
 "metadata": {
  "kernelspec": {
   "display_name": "Python 2",
   "language": "python",
   "name": "python2"
  },
  "language_info": {
   "codemirror_mode": {
    "name": "ipython",
    "version": 2
   },
   "file_extension": ".py",
   "mimetype": "text/x-python",
   "name": "python",
   "nbconvert_exporter": "python",
   "pygments_lexer": "ipython2",
   "version": "2.7.12"
  }
 },
 "nbformat": 4,
 "nbformat_minor": 0
}
